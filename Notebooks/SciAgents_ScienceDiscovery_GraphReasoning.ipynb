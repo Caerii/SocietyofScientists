{
 "cells": [
  {
   "cell_type": "markdown",
   "id": "1be16592-06df-42d3-834e-92001c455abb",
   "metadata": {},
   "source": [
    "# SciAgents\n",
    "## Automating scientific discovery through multi-agent intelligent graph reasoning\n",
    "\n",
    "#### Alireza Ghafarollahi, Markus J. Buehler, MIT, 2024 mbuehler@MIT.EDU"
   ]
  },
  {
   "cell_type": "code",
   "execution_count": null,
   "id": "e88a310b-5971-4111-9f0e-ac6eef990594",
   "metadata": {},
   "outputs": [],
   "source": [
    "!git clone https://github.com/lamm-mit/SciAgentsDiscovery.git\n",
    "%cd SciAgentsDiscovery\n",
    "!pip install -e ."
   ]
  },
  {
   "cell_type": "code",
   "execution_count": 1,
   "id": "24cbd5ab-8985-443a-abd4-bde904dcd389",
   "metadata": {},
   "outputs": [],
   "source": [
    "import os\n",
    "\n",
    "OpenAI_key='sk-'\n",
    "os.environ['OPENAI_API_KEY']=OpenAI_key\n",
    "\n",
    "data_dir_output='./graph_giant_component_LLMdiscovery_example/'"
   ]
  },
  {
   "cell_type": "code",
   "execution_count": 3,
   "id": "02ee4ab1-b4fe-4dc1-a7e7-8fd12cc8c1dc",
   "metadata": {},
   "outputs": [
    {
     "data": {
      "text/plain": [
       "'Directory already exists.'"
      ]
     },
     "execution_count": 3,
     "metadata": {},
     "output_type": "execute_result"
    }
   ],
   "source": [
    "from ScienceDiscovery import *\n",
    "make_dir_if_needed(data_dir_output)"
   ]
  },
  {
   "cell_type": "markdown",
   "id": "dc4c7e01-48aa-426a-b1ff-cea65d5d6427",
   "metadata": {},
   "source": [
    "### Setting up OpenAI GPT model for the LLM (non-automated version)"
   ]
  },
  {
   "cell_type": "code",
   "execution_count": 4,
   "id": "c9e805ab-7609-4b2c-babc-bf51279574b3",
   "metadata": {},
   "outputs": [],
   "source": [
    "default_generate_OpenAIGPT = partial(\n",
    "    generate_OpenAIGPT,\n",
    "    openai_api_key=OpenAI_key,\n",
    "    #gpt_model='gpt-4-turbo',\n",
    "    gpt_model='gpt-4o',\n",
    "    temperature=0.2,\n",
    "    max_tokens=2048,\n",
    ")"
   ]
  },
  {
   "cell_type": "markdown",
   "id": "3b261e57-2f27-4588-8e5e-6774d654b85e",
   "metadata": {},
   "source": [
    "## 1- Research idea generation using the non-automated multi-agent model"
   ]
  },
  {
   "cell_type": "code",
   "execution_count": null,
   "id": "d8276cc2-4ff3-4112-ac80-4ce744e80a23",
   "metadata": {},
   "outputs": [],
   "source": [
    "research_generation(G=G, \n",
    "                    embedding_tokenizer=embedding_tokenizer,\n",
    "                    embedding_model=embedding_model,\n",
    "                    node_embeddings=node_embeddings,\n",
    "                    generate=default_generate_OpenAIGPT,\n",
    "                    generate_graph_expansion=default_generate_OpenAIGPT,\n",
    "                    randomness_factor=0.2, num_random_waypoints=4,shortest_path=False,\n",
    "                    second_hop=False, data_dir=data_dir_output, save_files=False, verbatim=True,\n",
    "                    keyword_1='energy-intensive', keyword_2='protein')"
   ]
  },
  {
   "cell_type": "markdown",
   "id": "4e29d660-93b2-4ec4-a9e5-0366cf502515",
   "metadata": {},
   "source": [
    "## 2- Research idea generation using the automated multi-agent model"
   ]
  },
  {
   "cell_type": "code",
   "execution_count": null,
   "id": "9a5d67fa-b6c2-4259-a8ee-8db4b1801b05",
   "metadata": {},
   "outputs": [],
   "source": [
    "res = user.initiate_chat(recipient=manager,\n",
    "message='''Develop a research proposal using random concepts. In the end, rate the novelty and feasibility of the research idea.''',\n",
    "                        clear_history=True)"
   ]
  },
  {
   "cell_type": "markdown",
   "id": "02261047-d40f-4bfc-a400-cd2057bc6c20",
   "metadata": {},
   "source": [
    "### Saving the output of the automated version"
   ]
  },
  {
   "cell_type": "code",
   "execution_count": 5,
   "id": "bb50b7c2-6063-410c-b1a2-04c1b74246d5",
   "metadata": {},
   "outputs": [],
   "source": [
    "formatted_text = \"\"\n",
    "formatted_text_summary = \"\"\n",
    "for i in range(len(res.chat_history)):\n",
    "    try:\n",
    "        formatted_text += f'''{res.chat_history[i]['tool_calls'][0]['function']['name']}-{res.chat_history[1]['tool_calls'][0]['function']['arguments']}\\n\\n'''\n",
    "    except:\n",
    "        if i==0:\n",
    "            formatted_text += '### ' + f'''{res.chat_history[i]['content']}\\n\\n'''\n",
    "        else:\n",
    "            formatted_text += f'''{res.chat_history[i]['content']}\\n\\n'''\n",
    "            if re.search(\"Summary of the Initial Research Hypothesis\", f'''{res.chat_history[i]['content']}'''):\n",
    "                formatted_text_summary += f'''{res.chat_history[i]['content']}'''\n",
    "\n",
    "text_markdown = Markdown(formatted_text)\n",
    "\n",
    "markdown_to_pdf(formatted_text, 'output_research')"
   ]
  }
 ],
 "metadata": {
  "kernelspec": {
   "display_name": "Python 3 (ipykernel)",
   "language": "python",
   "name": "python3"
  },
  "language_info": {
   "codemirror_mode": {
    "name": "ipython",
    "version": 3
   },
   "file_extension": ".py",
   "mimetype": "text/x-python",
   "name": "python",
   "nbconvert_exporter": "python",
   "pygments_lexer": "ipython3",
   "version": "3.10.12"
  }
 },
 "nbformat": 4,
 "nbformat_minor": 5
}
